{
 "cells": [
  {
   "cell_type": "markdown",
   "metadata": {},
   "source": [
    "## Instrucciones: \n",
    "Implementa una pequeña simulación en el lenguaje de tu preferencia (Python, C, C++, etc.) utilizando el patrón Fork-Join. La simulación debe calcular la suma de los elementos de una lista dividida en sublistas, donde cada sublista es procesada en paralelo, y luego los resultados parciales son combinados. \n",
    "\n",
    "Requisitos del proyecto:\n",
    "- El código debe ejecutarse en paralelo utilizando al menos 4 hilos o procesadores.\n",
    "- Documenta cómo lograste dividir las tareas y cómo manejas la combinación de los resultados.\n",
    "- Entrega el código junto con un reporte en PDF que explique la arquitectura utilizada y los resultados obtenidos.\n",
    "\n",
    "---\n",
    "[Enlace al repositorio](https://github.com/jazurdia/cortoParalelas)"
   ]
  },
  {
   "cell_type": "markdown",
   "metadata": {},
   "source": [
    "## Implementación\n",
    "\n",
    "La simulación utiliza el patrón Fork-Join para dividir una tarea en sub-tareas que se ejecutan en paralelo, mejorando así la eficiencia del cálculo. En este caso, se logró calcular la suma de una lista de 100000 elementos dividiéndola en 4 sublistas y procesándolas en paralelo con 4 hilos.\n",
    "\n",
    "### División de Tareas\n",
    "1. La lista original se divide en 4 sublistas, cada una de las cuales es procesada por un hilo separado.\n",
    "2. Cada hilo calcula la suma parcial de su sublista y almacena el resultado en una lista compartida.\n",
    "\n",
    "### Combinación de Resultados\n",
    "1. Una vez que todos los hilos han completado su tarea, los resultados parciales se combinan sumándolos para obtener el resultado final."
   ]
  },
  {
   "cell_type": "code",
   "execution_count": 37,
   "metadata": {},
   "outputs": [],
   "source": [
    "import threading"
   ]
  },
  {
   "cell_type": "code",
   "execution_count": 38,
   "metadata": {},
   "outputs": [],
   "source": [
    "# Function to calculate the sum of elements in a sublist\n",
    "def partial_sum(sublist, result, index):\n",
    "    partial_result = sum(sublist)\n",
    "    print(f\"Thread {index}: Calculated partial sum = {partial_result}\")\n",
    "    result[index] = partial_result"
   ]
  },
  {
   "cell_type": "code",
   "execution_count": 39,
   "metadata": {},
   "outputs": [],
   "source": [
    "# Main function to perform the fork-join sum\n",
    "def fork_join_sum(lst):\n",
    "    # Number of threads\n",
    "    num_threads = 4\n",
    "    # Length of each sublist\n",
    "    sublist_length = len(lst) // num_threads\n",
    "    # List to store the results from each thread\n",
    "    results = [0] * num_threads\n",
    "    # List to store the threads\n",
    "    threads = []\n",
    "\n",
    "    # print(f\"Original list: {lst}\")\n",
    "    print(f\"size of the list: {len(lst)}\")\n",
    "    print(f\"Number of threads: {num_threads}\")\n",
    "    print(f\"Sublist length: {sublist_length}\")\n",
    "\n",
    "    # Divide the list into sublists and create threads\n",
    "    for i in range(num_threads):\n",
    "        start_index = i * sublist_length\n",
    "        # Ensure the last sublist includes any remaining elements\n",
    "        end_index = (i + 1) * sublist_length if i != num_threads - 1 else len(lst)\n",
    "        sublist = lst[start_index:end_index]\n",
    "        ##print(f\"Thread {i}: Processing sublist {sublist}\")\n",
    "        thread = threading.Thread(target=partial_sum, args=(sublist, results, i))\n",
    "        threads.append(thread)\n",
    "        thread.start()\n",
    "\n",
    "    # Wait for all threads to complete\n",
    "    for thread in threads:\n",
    "        thread.join()\n",
    "\n",
    "    # Combine the results from each thread\n",
    "\n",
    "    print()\n",
    "    print(f\"Threads completed\")\n",
    "    print()\n",
    "\n",
    "    total_sum = sum(results)\n",
    "    print(f\"Partial results: {results}\")\n",
    "    print(f\"Total sum: {total_sum}\")\n",
    "    return total_sum"
   ]
  },
  {
   "cell_type": "code",
   "execution_count": 40,
   "metadata": {},
   "outputs": [
    {
     "name": "stdout",
     "output_type": "stream",
     "text": [
      "size of the list: 9999\n",
      "Number of threads: 4\n",
      "Sublist length: 2499\n",
      "Thread 0: Calculated partial sum = 3123750\n",
      "Thread 1: Calculated partial sum = 9368751\n",
      "Thread 2: Calculated partial sum = 15613752\n",
      "Thread 3: Calculated partial sum = 21888747\n",
      "\n",
      "Threads completed\n",
      "\n",
      "Partial results: [3123750, 9368751, 15613752, 21888747]\n",
      "Total sum: 49995000\n",
      "The sum of the list is: 49995000\n"
     ]
    }
   ],
   "source": [
    "if __name__ == \"__main__\":\n",
    "    lst = [i for i in range(1, 10000)]  # List of numbers from 1 to 100000\n",
    "    result = fork_join_sum(lst)\n",
    "    print(f\"The sum of the list is: {result}\")"
   ]
  },
  {
   "cell_type": "markdown",
   "metadata": {},
   "source": [
    "## Conclusion\n",
    "\n",
    "La simulación demuestra cómo se puede utilizar el patrón Fork-Join para dividir una tarea en sub-tareas que se ejecutan en paralelo, mejorando así la eficiencia del cálculo. En este caso, se logró calcular la suma de una lista de 100000 elementos dividiéndola en 4 sublistas y procesándolas en paralelo con 4 hilos. Se encontró que la suma tiene como resultado 4999950000. Se realizó varias veces la simulación, encontrando consistencia en ese resultado, por lo que se puede concluir que la implementación fue exitosa."
   ]
  }
 ],
 "metadata": {
  "kernelspec": {
   "display_name": "base",
   "language": "python",
   "name": "python3"
  },
  "language_info": {
   "codemirror_mode": {
    "name": "ipython",
    "version": 3
   },
   "file_extension": ".py",
   "mimetype": "text/x-python",
   "name": "python",
   "nbconvert_exporter": "python",
   "pygments_lexer": "ipython3",
   "version": "3.12.4"
  }
 },
 "nbformat": 4,
 "nbformat_minor": 2
}
